{
  "nbformat": 4,
  "nbformat_minor": 0,
  "metadata": {
    "colab": {
      "provenance": [],
      "authorship_tag": "ABX9TyOOkMBawPF2TX6Kws0esqVT",
      "include_colab_link": true
    },
    "kernelspec": {
      "name": "python3",
      "display_name": "Python 3"
    },
    "language_info": {
      "name": "python"
    }
  },
  "cells": [
    {
      "cell_type": "markdown",
      "metadata": {
        "id": "view-in-github",
        "colab_type": "text"
      },
      "source": [
        "<a href=\"https://colab.research.google.com/github/sadovnichek/NumericCalculus/blob/main/Integrals.ipynb\" target=\"_parent\"><img src=\"https://colab.research.google.com/assets/colab-badge.svg\" alt=\"Open In Colab\"/></a>"
      ]
    },
    {
      "cell_type": "code",
      "execution_count": 19,
      "metadata": {
        "id": "C6tAs4t0r3Lo"
      },
      "outputs": [],
      "source": [
        "import math\n",
        "\n",
        "def f(x):\n",
        "  return pow(math.e, pow(x, 3))"
      ]
    },
    {
      "cell_type": "code",
      "source": [
        "h = 0.0001\n",
        "left_bound = 0\n",
        "right_bound = 1\n",
        "\n",
        "m = (right_bound - left_bound) / h"
      ],
      "metadata": {
        "id": "oqLe8Kl9sWzC"
      },
      "execution_count": 50,
      "outputs": []
    },
    {
      "cell_type": "code",
      "source": [
        "# Метод правых прямоугольников\n",
        "sum = 0\n",
        "x = left_bound + h\n",
        "for i in range(0, round(m) - 1):\n",
        "  sum += f(x)\n",
        "  x += h\n",
        "\n",
        "print(h * sum)"
      ],
      "metadata": {
        "colab": {
          "base_uri": "https://localhost:8080/"
        },
        "id": "VsUBgj1ssds6",
        "outputId": "9de55557-5d5e-43e0-a51e-091c9986cc0e"
      },
      "execution_count": 40,
      "outputs": [
        {
          "output_type": "stream",
          "name": "stdout",
          "text": [
            "1.295850501704349\n"
          ]
        }
      ]
    },
    {
      "cell_type": "code",
      "source": [
        "# Метод Симпсона\n",
        "sum = 0\n",
        "x = left_bound\n",
        "for i in range(0, round(m) - 1):\n",
        "  sum += f(x) + 4 * f(x + h / 2) + f(x + h)\n",
        "  x += h\n",
        "\n",
        "print(h / 6 * sum)"
      ],
      "metadata": {
        "colab": {
          "base_uri": "https://localhost:8080/"
        },
        "id": "K4SfIpcfuF46",
        "outputId": "55ae739e-2bcc-40fb-fb8d-0c3c8e93f6f1"
      },
      "execution_count": 52,
      "outputs": [
        {
          "output_type": "stream",
          "name": "stdout",
          "text": [
            "1.3416326305618835\n"
          ]
        }
      ]
    }
  ]
}