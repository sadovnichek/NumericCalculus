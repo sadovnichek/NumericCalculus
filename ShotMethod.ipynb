{
  "nbformat": 4,
  "nbformat_minor": 0,
  "metadata": {
    "colab": {
      "provenance": [],
      "authorship_tag": "ABX9TyMxcL5/fk01q4Ar6mvfnGA7",
      "include_colab_link": true
    },
    "kernelspec": {
      "name": "python3",
      "display_name": "Python 3"
    },
    "language_info": {
      "name": "python"
    }
  },
  "cells": [
    {
      "cell_type": "markdown",
      "metadata": {
        "id": "view-in-github",
        "colab_type": "text"
      },
      "source": [
        "<a href=\"https://colab.research.google.com/github/sadovnichek/NumericCalculus/blob/main/ShotMethod.ipynb\" target=\"_parent\"><img src=\"https://colab.research.google.com/assets/colab-badge.svg\" alt=\"Open In Colab\"/></a>"
      ]
    },
    {
      "cell_type": "code",
      "execution_count": 98,
      "metadata": {
        "id": "RYetMtyfoWdQ"
      },
      "outputs": [],
      "source": [
        "import math\n",
        "import matplotlib.pyplot as plt\n",
        "\n",
        "def right(x, y):\n",
        "  return y"
      ]
    },
    {
      "cell_type": "code",
      "source": [
        "def euler_recount(x, y, h, f):\n",
        "  next_x = x + h\n",
        "  next_y = y + h / 2 * (f(x, y) + f(next_x, y + h * f(x, y)))\n",
        "  return (next_x, next_y)"
      ],
      "metadata": {
        "id": "-OwXg0Ino6zd"
      },
      "execution_count": 99,
      "outputs": []
    },
    {
      "cell_type": "code",
      "source": [
        "def shot(a, b, mu, m):\n",
        "  def dy_mu(x, y):\n",
        "    return 1 / 2 * (math.exp(x) - math.exp(-x))\n",
        "  x_values, z_values = cauchy_problem(euler_recount, a, b, mu, m, dy_mu)\n",
        "  def z(x, y):\n",
        "    i = x_values.index(x)\n",
        "    return z_values[i]\n",
        "  return cauchy_problem(euler_recount, a, b, 0, m, z)\n"
      ],
      "metadata": {
        "id": "hFQBPhaXsNmy"
      },
      "execution_count": 100,
      "outputs": []
    },
    {
      "cell_type": "code",
      "source": [
        "def cauchy_problem(method, a, b, alpha, m, f):\n",
        "  h = (b - a) / m\n",
        "  x_values = [a]\n",
        "  y_values = [alpha]\n",
        "  for i in range(1, m + 1):\n",
        "    x, y = method(x_values[-1], y_values[-1], h, f)\n",
        "    x_values.append(x)\n",
        "    y_values.append(y)\n",
        "  return (x_values, y_values)"
      ],
      "metadata": {
        "id": "m_V2Ft4zombh"
      },
      "execution_count": 101,
      "outputs": []
    },
    {
      "cell_type": "code",
      "source": [
        "def draw(method=euler_recount):\n",
        "  x_values, y_values = shot(0, 1, 0.851, 10)\n",
        "  y_values = list(map(lambda y: round(y, 4), y_values))\n",
        "\n",
        "  plt.grid()\n",
        "  plt.plot(x_values, y_values, '-bo')\n",
        "  plt.show()"
      ],
      "metadata": {
        "id": "99wRKdTPnS4N"
      },
      "execution_count": 102,
      "outputs": []
    },
    {
      "cell_type": "code",
      "source": [
        "draw()"
      ],
      "metadata": {
        "colab": {
          "base_uri": "https://localhost:8080/",
          "height": 430
        },
        "id": "CUjCuvLyoAbW",
        "outputId": "20fecb67-c3db-4d93-b984-037297f77506"
      },
      "execution_count": 103,
      "outputs": [
        {
          "output_type": "display_data",
          "data": {
            "text/plain": [
              "<Figure size 640x480 with 1 Axes>"
            ],
            "image/png": "[encoded data removed]"
          },
          "metadata": {}
        }
      ]
    }
  ]
}